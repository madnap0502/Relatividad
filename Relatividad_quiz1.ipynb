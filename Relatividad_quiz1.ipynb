{
  "nbformat": 4,
  "nbformat_minor": 0,
  "metadata": {
    "colab": {
      "provenance": [],
      "authorship_tag": "ABX9TyPAqHKvVDhoJV61gUCpK7z0",
      "include_colab_link": true
    },
    "kernelspec": {
      "name": "python3",
      "display_name": "Python 3"
    },
    "language_info": {
      "name": "python"
    }
  },
  "cells": [
    {
      "cell_type": "markdown",
      "metadata": {
        "id": "view-in-github",
        "colab_type": "text"
      },
      "source": [
        "<a href=\"https://colab.research.google.com/github/madnap0502/Relatividad/blob/main/Relatividad_quiz1.ipynb\" target=\"_parent\"><img src=\"https://colab.research.google.com/assets/colab-badge.svg\" alt=\"Open In Colab\"/></a>"
      ]
    },
    {
      "cell_type": "markdown",
      "source": [
        "#Relatividad, Gravitación y Cosmología"
      ],
      "metadata": {
        "id": "8Y368lLde2Nz"
      }
    },
    {
      "cell_type": "code",
      "source": [
        "import numpy as np\n",
        "import matplotlib.pyplot as plt\n",
        "import pandas as pd"
      ],
      "metadata": {
        "id": "-4vfILc3htsr"
      },
      "execution_count": 1,
      "outputs": []
    },
    {
      "cell_type": "markdown",
      "source": [
        "##Notebook 1: Cápitulo I Relatividad Especial y Espacio Tiempo\n"
      ],
      "metadata": {
        "id": "gjhkEuOrfVvj"
      }
    },
    {
      "cell_type": "markdown",
      "source": [
        "###Introducción\n",
        "\n",
        "En la escala cósmica, la gravedad domina el universo, puesto que le da forma a este determinando la geometría del espacio-tiempo y por lo tanto, la distribución a gran escala de las galaxias.\n",
        "\n",
        "\n",
        "\n"
      ],
      "metadata": {
        "id": "v1BZ6w6p-EDe"
      }
    },
    {
      "cell_type": "markdown",
      "source": [
        "###Conceptos básicos de relatividad especial\n",
        "\n",
        "\n",
        "\n",
        "*   **Evento**, es una ocurrencia instantanea en un punto especifico del espacio\n",
        "*   **Marco de referencia**, es un sistema que asigna coordenadas a un evento. El cual consiste en un sistema de relojes sincronizados que permite un unico valor de tiwmpo asignado a\n",
        "\n",
        "\n",
        "\n",
        "\n"
      ],
      "metadata": {
        "id": "DsjIhoTeBu3_"
      }
    },
    {
      "cell_type": "markdown",
      "source": [
        "### Transformación de coordenadas"
      ],
      "metadata": {
        "id": "X27grDpAf4Ur"
      }
    }
  ]
}