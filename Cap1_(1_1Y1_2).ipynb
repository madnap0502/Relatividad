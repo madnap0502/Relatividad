{
  "nbformat": 4,
  "nbformat_minor": 0,
  "metadata": {
    "colab": {
      "provenance": [],
      "authorship_tag": "ABX9TyOPD9zznvUmKcmXFogVgHgb",
      "include_colab_link": true
    },
    "kernelspec": {
      "name": "python3",
      "display_name": "Python 3"
    },
    "language_info": {
      "name": "python"
    }
  },
  "cells": [
    {
      "cell_type": "markdown",
      "metadata": {
        "id": "view-in-github",
        "colab_type": "text"
      },
      "source": [
        "<a href=\"https://colab.research.google.com/github/madnap0502/Relatividad/blob/main/Cap1_(1_1Y1_2).ipynb\" target=\"_parent\"><img src=\"https://colab.research.google.com/assets/colab-badge.svg\" alt=\"Open In Colab\"/></a>"
      ]
    },
    {
      "cell_type": "markdown",
      "source": [
        "#Relatividad, Gravitación y Cosmología"
      ],
      "metadata": {
        "id": "8Y368lLde2Nz"
      }
    },
    {
      "cell_type": "markdown",
      "source": [
        "##Notebook 1: Cápitulo I Relatividad Especial y Espacio Tiempo\n"
      ],
      "metadata": {
        "id": "gjhkEuOrfVvj"
      }
    },
    {
      "cell_type": "markdown",
      "source": [
        "###Introducción\n",
        "\n",
        "En la escala cósmica, la gravedad domina el universo, puesto que le da forma al universo determinando la geometría del espacio-tiempo y por lo tanto, la distribución a gran escala de las galaxias.\n",
        "\n",
        "\n",
        "\n"
      ],
      "metadata": {
        "id": "v1BZ6w6p-EDe"
      }
    },
    {
      "cell_type": "markdown",
      "source": [
        "###Conceptos básicos de relatividad especial\n"
      ],
      "metadata": {
        "id": "DsjIhoTeBu3_"
      }
    },
    {
      "cell_type": "markdown",
      "source": [
        "### Transformación de coordenadas"
      ],
      "metadata": {
        "id": "X27grDpAf4Ur"
      }
    }
  ]
}